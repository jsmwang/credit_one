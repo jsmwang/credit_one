{
 "cells": [
  {
   "cell_type": "code",
   "execution_count": 1,
   "metadata": {},
   "outputs": [],
   "source": [
    "import numpy as np\n",
    "import pandas as pd\n",
    "import scipy\n",
    "import seaborn as sns\n",
    "from math import sqrt\n",
    "import matplotlib.pyplot as plt\n",
    "from sklearn.ensemble import RandomForestRegressor\n",
    "from sklearn.linear_model import LinearRegression\n",
    "from sklearn.svm import SVR\n",
    "from sklearn import linear_model\n",
    "from sklearn.metrics import mean_squared_error\n",
    "from sklearn.metrics import r2_score\n",
    "from sklearn.model_selection import cross_val_score\n",
    "from sklearn.model_selection import train_test_split\n",
    "from sklearn.preprocessing import StandardScaler, LabelEncoder\n",
    "%matplotlib inline"
   ]
  },
  {
   "cell_type": "code",
   "execution_count": 2,
   "metadata": {},
   "outputs": [
    {
     "data": {
      "text/html": [
       "<div>\n",
       "<style scoped>\n",
       "    .dataframe tbody tr th:only-of-type {\n",
       "        vertical-align: middle;\n",
       "    }\n",
       "\n",
       "    .dataframe tbody tr th {\n",
       "        vertical-align: top;\n",
       "    }\n",
       "\n",
       "    .dataframe thead th {\n",
       "        text-align: right;\n",
       "    }\n",
       "</style>\n",
       "<table border=\"1\" class=\"dataframe\">\n",
       "  <thead>\n",
       "    <tr style=\"text-align: right;\">\n",
       "      <th></th>\n",
       "      <th>ID</th>\n",
       "      <th>LIMIT_BAL</th>\n",
       "      <th>MARRIAGE</th>\n",
       "      <th>AGE</th>\n",
       "      <th>PAY_1</th>\n",
       "      <th>PAY_2</th>\n",
       "      <th>PAY_3</th>\n",
       "      <th>PAY_4</th>\n",
       "      <th>PAY_5</th>\n",
       "      <th>PAY_6</th>\n",
       "      <th>...</th>\n",
       "      <th>PAY_AMT5</th>\n",
       "      <th>PAY_AMT6</th>\n",
       "      <th>SEX_female</th>\n",
       "      <th>SEX_male</th>\n",
       "      <th>EDUCATION_graduate school</th>\n",
       "      <th>EDUCATION_high school</th>\n",
       "      <th>EDUCATION_other</th>\n",
       "      <th>EDUCATION_university</th>\n",
       "      <th>default payment next month_default</th>\n",
       "      <th>default payment next month_not default</th>\n",
       "    </tr>\n",
       "  </thead>\n",
       "  <tbody>\n",
       "    <tr>\n",
       "      <th>0</th>\n",
       "      <td>1</td>\n",
       "      <td>20000</td>\n",
       "      <td>1</td>\n",
       "      <td>24</td>\n",
       "      <td>2</td>\n",
       "      <td>2</td>\n",
       "      <td>-1</td>\n",
       "      <td>-1</td>\n",
       "      <td>-2</td>\n",
       "      <td>-2</td>\n",
       "      <td>...</td>\n",
       "      <td>0</td>\n",
       "      <td>0</td>\n",
       "      <td>1</td>\n",
       "      <td>0</td>\n",
       "      <td>0</td>\n",
       "      <td>0</td>\n",
       "      <td>0</td>\n",
       "      <td>1</td>\n",
       "      <td>1</td>\n",
       "      <td>0</td>\n",
       "    </tr>\n",
       "    <tr>\n",
       "      <th>1</th>\n",
       "      <td>2</td>\n",
       "      <td>120000</td>\n",
       "      <td>2</td>\n",
       "      <td>26</td>\n",
       "      <td>-1</td>\n",
       "      <td>2</td>\n",
       "      <td>0</td>\n",
       "      <td>0</td>\n",
       "      <td>0</td>\n",
       "      <td>2</td>\n",
       "      <td>...</td>\n",
       "      <td>0</td>\n",
       "      <td>2000</td>\n",
       "      <td>1</td>\n",
       "      <td>0</td>\n",
       "      <td>0</td>\n",
       "      <td>0</td>\n",
       "      <td>0</td>\n",
       "      <td>1</td>\n",
       "      <td>1</td>\n",
       "      <td>0</td>\n",
       "    </tr>\n",
       "    <tr>\n",
       "      <th>2</th>\n",
       "      <td>3</td>\n",
       "      <td>90000</td>\n",
       "      <td>2</td>\n",
       "      <td>34</td>\n",
       "      <td>0</td>\n",
       "      <td>0</td>\n",
       "      <td>0</td>\n",
       "      <td>0</td>\n",
       "      <td>0</td>\n",
       "      <td>0</td>\n",
       "      <td>...</td>\n",
       "      <td>1000</td>\n",
       "      <td>5000</td>\n",
       "      <td>1</td>\n",
       "      <td>0</td>\n",
       "      <td>0</td>\n",
       "      <td>0</td>\n",
       "      <td>0</td>\n",
       "      <td>1</td>\n",
       "      <td>0</td>\n",
       "      <td>1</td>\n",
       "    </tr>\n",
       "    <tr>\n",
       "      <th>3</th>\n",
       "      <td>4</td>\n",
       "      <td>50000</td>\n",
       "      <td>1</td>\n",
       "      <td>37</td>\n",
       "      <td>0</td>\n",
       "      <td>0</td>\n",
       "      <td>0</td>\n",
       "      <td>0</td>\n",
       "      <td>0</td>\n",
       "      <td>0</td>\n",
       "      <td>...</td>\n",
       "      <td>1069</td>\n",
       "      <td>1000</td>\n",
       "      <td>1</td>\n",
       "      <td>0</td>\n",
       "      <td>0</td>\n",
       "      <td>0</td>\n",
       "      <td>0</td>\n",
       "      <td>1</td>\n",
       "      <td>0</td>\n",
       "      <td>1</td>\n",
       "    </tr>\n",
       "    <tr>\n",
       "      <th>4</th>\n",
       "      <td>5</td>\n",
       "      <td>50000</td>\n",
       "      <td>1</td>\n",
       "      <td>57</td>\n",
       "      <td>-1</td>\n",
       "      <td>0</td>\n",
       "      <td>-1</td>\n",
       "      <td>0</td>\n",
       "      <td>0</td>\n",
       "      <td>0</td>\n",
       "      <td>...</td>\n",
       "      <td>689</td>\n",
       "      <td>679</td>\n",
       "      <td>0</td>\n",
       "      <td>1</td>\n",
       "      <td>0</td>\n",
       "      <td>0</td>\n",
       "      <td>0</td>\n",
       "      <td>1</td>\n",
       "      <td>0</td>\n",
       "      <td>1</td>\n",
       "    </tr>\n",
       "  </tbody>\n",
       "</table>\n",
       "<p>5 rows × 30 columns</p>\n",
       "</div>"
      ],
      "text/plain": [
       "   ID  LIMIT_BAL  MARRIAGE  AGE  PAY_1  PAY_2  PAY_3  PAY_4  PAY_5  PAY_6  \\\n",
       "0   1      20000         1   24      2      2     -1     -1     -2     -2   \n",
       "1   2     120000         2   26     -1      2      0      0      0      2   \n",
       "2   3      90000         2   34      0      0      0      0      0      0   \n",
       "3   4      50000         1   37      0      0      0      0      0      0   \n",
       "4   5      50000         1   57     -1      0     -1      0      0      0   \n",
       "\n",
       "   ...  PAY_AMT5  PAY_AMT6  SEX_female  SEX_male  EDUCATION_graduate school  \\\n",
       "0  ...         0         0           1         0                          0   \n",
       "1  ...         0      2000           1         0                          0   \n",
       "2  ...      1000      5000           1         0                          0   \n",
       "3  ...      1069      1000           1         0                          0   \n",
       "4  ...       689       679           0         1                          0   \n",
       "\n",
       "   EDUCATION_high school  EDUCATION_other  EDUCATION_university  \\\n",
       "0                      0                0                     1   \n",
       "1                      0                0                     1   \n",
       "2                      0                0                     1   \n",
       "3                      0                0                     1   \n",
       "4                      0                0                     1   \n",
       "\n",
       "   default payment next month_default  default payment next month_not default  \n",
       "0                                   1                                       0  \n",
       "1                                   1                                       0  \n",
       "2                                   0                                       1  \n",
       "3                                   0                                       1  \n",
       "4                                   0                                       1  \n",
       "\n",
       "[5 rows x 30 columns]"
      ]
     },
     "execution_count": 2,
     "metadata": {},
     "output_type": "execute_result"
    }
   ],
   "source": [
    "rawData = pd.read_csv('CreditOne.csv',index_col=0)\n",
    "rawData.head()"
   ]
  },
  {
   "cell_type": "code",
   "execution_count": 3,
   "metadata": {},
   "outputs": [
    {
     "name": "stdout",
     "output_type": "stream",
     "text": [
      "<class 'pandas.core.frame.DataFrame'>\n",
      "Int64Index: 30000 entries, 0 to 30202\n",
      "Data columns (total 30 columns):\n",
      " #   Column                                  Non-Null Count  Dtype\n",
      "---  ------                                  --------------  -----\n",
      " 0   ID                                      30000 non-null  int64\n",
      " 1   LIMIT_BAL                               30000 non-null  int64\n",
      " 2   MARRIAGE                                30000 non-null  int64\n",
      " 3   AGE                                     30000 non-null  int64\n",
      " 4   PAY_1                                   30000 non-null  int64\n",
      " 5   PAY_2                                   30000 non-null  int64\n",
      " 6   PAY_3                                   30000 non-null  int64\n",
      " 7   PAY_4                                   30000 non-null  int64\n",
      " 8   PAY_5                                   30000 non-null  int64\n",
      " 9   PAY_6                                   30000 non-null  int64\n",
      " 10  BILL_AMT1                               30000 non-null  int64\n",
      " 11  BILL_AMT2                               30000 non-null  int64\n",
      " 12  BILL_AMT3                               30000 non-null  int64\n",
      " 13  BILL_AMT4                               30000 non-null  int64\n",
      " 14  BILL_AMT5                               30000 non-null  int64\n",
      " 15  BILL_AMT6                               30000 non-null  int64\n",
      " 16  PAY_AMT1                                30000 non-null  int64\n",
      " 17  PAY_AMT2                                30000 non-null  int64\n",
      " 18  PAY_AMT3                                30000 non-null  int64\n",
      " 19  PAY_AMT4                                30000 non-null  int64\n",
      " 20  PAY_AMT5                                30000 non-null  int64\n",
      " 21  PAY_AMT6                                30000 non-null  int64\n",
      " 22  SEX_female                              30000 non-null  int64\n",
      " 23  SEX_male                                30000 non-null  int64\n",
      " 24  EDUCATION_graduate school               30000 non-null  int64\n",
      " 25  EDUCATION_high school                   30000 non-null  int64\n",
      " 26  EDUCATION_other                         30000 non-null  int64\n",
      " 27  EDUCATION_university                    30000 non-null  int64\n",
      " 28  default payment next month_default      30000 non-null  int64\n",
      " 29  default payment next month_not default  30000 non-null  int64\n",
      "dtypes: int64(30)\n",
      "memory usage: 7.1 MB\n"
     ]
    }
   ],
   "source": [
    "rawData.info()"
   ]
  },
  {
   "cell_type": "code",
   "execution_count": 4,
   "metadata": {},
   "outputs": [],
   "source": [
    "X=rawData.drop('LIMIT_BAL', axis=1)\n",
    "y=rawData['LIMIT_BAL']"
   ]
  },
  {
   "cell_type": "code",
   "execution_count": 5,
   "metadata": {},
   "outputs": [],
   "source": [
    "model = LinearRegression(n_jobs=10)"
   ]
  },
  {
   "cell_type": "code",
   "execution_count": 6,
   "metadata": {},
   "outputs": [
    {
     "name": "stdout",
     "output_type": "stream",
     "text": [
      "[0.35568359 0.3804519  0.33459622]\n"
     ]
    }
   ],
   "source": [
    "print(cross_val_score(model, X, y, cv=3)) "
   ]
  },
  {
   "cell_type": "code",
   "execution_count": 8,
   "metadata": {},
   "outputs": [],
   "source": [
    "X=rawData.drop('LIMIT_BAL', axis=1)\n",
    "y=rawData['LIMIT_BAL']"
   ]
  },
  {
   "cell_type": "code",
   "execution_count": 9,
   "metadata": {},
   "outputs": [],
   "source": [
    "X_train, X_test, y_train, y_test = train_test_split(X, y, test_size = .30, random_state = 123)"
   ]
  },
  {
   "cell_type": "code",
   "execution_count": 10,
   "metadata": {},
   "outputs": [],
   "source": [
    "algosClass = []"
   ]
  },
  {
   "cell_type": "code",
   "execution_count": 11,
   "metadata": {},
   "outputs": [],
   "source": [
    "algosClass.append(('Random Forest Regressor',RandomForestRegressor()))"
   ]
  },
  {
   "cell_type": "code",
   "execution_count": 12,
   "metadata": {},
   "outputs": [],
   "source": [
    "algosClass.append(('Linear Regression',LinearRegression()))"
   ]
  },
  {
   "cell_type": "code",
   "execution_count": 13,
   "metadata": {},
   "outputs": [],
   "source": [
    "algosClass.append(('Support Vector Regression',SVR()))"
   ]
  },
  {
   "cell_type": "code",
   "execution_count": 14,
   "metadata": {},
   "outputs": [],
   "source": [
    "results = []\n",
    "names = []\n",
    "for name, model in algosClass:\n",
    "    result = cross_val_score(model, X,y, cv=3, scoring='r2')\n",
    "    names.append(name)\n",
    "    results.append(result)"
   ]
  },
  {
   "cell_type": "code",
   "execution_count": 15,
   "metadata": {},
   "outputs": [
    {
     "name": "stdout",
     "output_type": "stream",
     "text": [
      "Random Forest Regressor 0.42607802626509406\n",
      "Linear Regression 0.3569105697423523\n",
      "Support Vector Regression -0.05039497235004838\n"
     ]
    }
   ],
   "source": [
    "for i in range(len(names)):\n",
    "    print(names[i],results[i].mean())\n",
    "    \n"
   ]
  },
  {
   "cell_type": "code",
   "execution_count": 16,
   "metadata": {},
   "outputs": [],
   "source": [
    "algoRF=RandomForestRegressor()\n",
    "modelRF=algoRF.fit(X_train,y_train)"
   ]
  },
  {
   "cell_type": "code",
   "execution_count": 17,
   "metadata": {},
   "outputs": [
    {
     "name": "stdout",
     "output_type": "stream",
     "text": [
      "R Squared: 0.471\n",
      "RMSE: 93552.121\n"
     ]
    }
   ],
   "source": [
    "predictions = modelRF.predict(X_test)\n",
    "predRsquared = r2_score(y_test,predictions)\n",
    "rmse = sqrt(mean_squared_error(y_test, predictions))\n",
    "print('R Squared: %.3f' % predRsquared)\n",
    "print('RMSE: %.3f' % rmse)"
   ]
  },
  {
   "cell_type": "code",
   "execution_count": null,
   "metadata": {},
   "outputs": [],
   "source": []
  }
 ],
 "metadata": {
  "kernelspec": {
   "display_name": "yanhuaenv",
   "language": "python",
   "name": "yanhuaenv"
  },
  "language_info": {
   "codemirror_mode": {
    "name": "ipython",
    "version": 3
   },
   "file_extension": ".py",
   "mimetype": "text/x-python",
   "name": "python",
   "nbconvert_exporter": "python",
   "pygments_lexer": "ipython3",
   "version": "3.8.3"
  }
 },
 "nbformat": 4,
 "nbformat_minor": 4
}
